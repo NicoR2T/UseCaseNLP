{
  "nbformat": 4,
  "nbformat_minor": 0,
  "metadata": {
    "colab": {
      "name": "Data_cleaning",
      "provenance": [],
      "toc_visible": true
    },
    "kernelspec": {
      "name": "python3",
      "display_name": "Python 3"
    },
    "language_info": {
      "name": "python"
    }
  },
  "cells": [
    {
      "cell_type": "markdown",
      "metadata": {
        "id": "-vcdbA17vhK-"
      },
      "source": [
        "# Fusion des brevets avec leur classification"
      ]
    },
    {
      "cell_type": "code",
      "metadata": {
        "id": "G9kAgtsBttOZ"
      },
      "source": [
        "from google.colab import drive\n",
        "drive.mount('/content/drive')\n",
        "dataroot = \"/content/drive/My Drive/EISTI 2021/Données\""
      ],
      "execution_count": null,
      "outputs": []
    },
    {
      "cell_type": "code",
      "metadata": {
        "id": "rYXiXYRYtw8F"
      },
      "source": [
        "with open(\"/content/drive/Shareddrives/ING3 IA: Use Case 1 (NLP Patent)/classification_36_reduce.txt\",'r') as f:\n",
        "    contents = f.read()\n",
        "espace = contents[1]\n",
        "classification = contents.replace(espace, \"\")\n",
        "classification_split = classification.split(\"\\n\\n\")"
      ],
      "execution_count": null,
      "outputs": []
    },
    {
      "cell_type": "code",
      "metadata": {
        "id": "mpKfLW4PtyBp"
      },
      "source": [
        "publi_number = []\n",
        "publi_kind = []\n",
        "publi_date = []\n",
        "publi_classification = []\n",
        "publi_information = []\n",
        "for l in classification_split:\n",
        "    if len(l) >= 1 and l[0] == \"\\\"\":\n",
        "        tmp_classification = []\n",
        "        tmp_information = []\n",
        "        publi_number.append(l.split(\";\")[0].split(\" \")[1])\n",
        "        publi_kind.append(l.split(\";\")[0].split(\" \")[2])\n",
        "        publi_date.append(l.split(\";\")[0].split(\" \")[3][:-1])\n",
        "        tmp_classification.append(l.split(\";\")[1].split(\" \")[0] + \" \" + l.split(\";\")[1].split(\" \")[1])\n",
        "        try:\n",
        "            tmp_information.append(l.split(\";\")[1].split(\" \")[2])\n",
        "        except:\n",
        "            tmp_information.append(\"\")\n",
        "    elif len(l) >= 1:\n",
        "        tmp_classification.append(l.split(\" \")[0] + \" \" + l.split(\" \")[1])\n",
        "        try:\n",
        "            tmp_information.append(l.split(\" \")[2])\n",
        "        except:\n",
        "            tmp_information.append(\"\")\n",
        "    if len(l) >= 1 and l[-1] == \"\\\"\":\n",
        "        tmp_classification[0] = tmp_classification[0][1:]\n",
        "        tmp_information[-1] = tmp_information[-1][:-1]\n",
        "        publi_classification.append(tmp_classification)\n",
        "        publi_information.append(tmp_information)            "
      ],
      "execution_count": null,
      "outputs": []
    },
    {
      "cell_type": "code",
      "metadata": {
        "id": "el1LjByYtyaK"
      },
      "source": [
        "import pandas as pd\n",
        "\n",
        "publication = pd.DataFrame()\n",
        "publication[\"number\"] = publi_number\n",
        "publication[\"kind\"] = publi_kind\n",
        "publication[\"date\"] = publi_date\n",
        "publication[\"information\"] = publi_information\n",
        "publication[\"classification\"] = publi_classification"
      ],
      "execution_count": null,
      "outputs": []
    },
    {
      "cell_type": "code",
      "metadata": {
        "id": "s5QQTxNKtykS"
      },
      "source": [
        "publication_unique = publication.drop_duplicates([\"number\"], keep='last')\n",
        "publication_unique.set_index(\"number\", inplace=True)"
      ],
      "execution_count": null,
      "outputs": []
    },
    {
      "cell_type": "code",
      "metadata": {
        "id": "FqwsPsdwtyrh"
      },
      "source": [
        "contenu_number = []\n",
        "contenu_language = []\n",
        "contenu_subject = []\n",
        "contenu_content = []\n",
        "with open(\"/content/drive/My Drive/EISTI 2021/Données/fulltext-EP3600000.txt\",'r') as f:\n",
        "    for l in f:\n",
        "      split_l = l.split(\"\\t\")\n",
        "      contenu_number.append(split_l[1])\n",
        "      contenu_language.append(split_l[4])\n",
        "      contenu_subject.append(split_l[5])\n",
        "      contenu_content.append(split_l[7])"
      ],
      "execution_count": null,
      "outputs": []
    },
    {
      "cell_type": "code",
      "metadata": {
        "id": "_S4lib5ktyzD"
      },
      "source": [
        "contenu = pd.DataFrame()\n",
        "contenu[\"number\"] = contenu_number\n",
        "contenu[\"language\"] = contenu_language\n",
        "contenu[\"subject\"] = contenu_subject\n",
        "contenu[\"contenu\"] = contenu_content"
      ],
      "execution_count": null,
      "outputs": []
    },
    {
      "cell_type": "markdown",
      "metadata": {
        "id": "p0kw6ueFv75s"
      },
      "source": [
        "## Exemple avec l'export d'un fichier en français pour la classification"
      ]
    },
    {
      "cell_type": "code",
      "metadata": {
        "id": "_K_YcF43v7VH"
      },
      "source": [
        "revendications = contenu[contenu[\"subject\"] == \"CLAIM\"].copy()\n",
        "del revendications[\"subject\"]\n",
        "revendications.columns = [\"number\", \"language\", \"claim\"]\n",
        "revendications_fr = revendications[revendications[\"language\"] == \"fr\"].copy()\n",
        "revendications_fr = revendications_fr.drop_duplicates([\"number\"], keep='last')\n",
        "del revendications_fr[\"language\"]\n",
        "revendications_fr.set_index(\"number\", inplace=True)"
      ],
      "execution_count": null,
      "outputs": []
    },
    {
      "cell_type": "code",
      "metadata": {
        "id": "8JlcBtsXty6P"
      },
      "source": [
        "description = contenu[contenu[\"subject\"] == \"DESCR\"].copy()\n",
        "del description[\"subject\"]\n",
        "description.columns = [\"number\", \"language\", \"description\"]\n",
        "description_fr = description[description[\"language\"] == \"en\"].copy()\n",
        "description_fr = description_fr.drop_duplicates([\"number\"], keep='last')\n",
        "del description_fr[\"language\"]\n",
        "description_fr.set_index(\"number\", inplace=True)"
      ],
      "execution_count": null,
      "outputs": []
    },
    {
      "cell_type": "code",
      "metadata": {
        "id": "EVEQKEyBtzBc"
      },
      "source": [
        "titles = contenu[contenu[\"subject\"] == \"TITLE\"].copy()\n",
        "del titles[\"subject\"]\n",
        "titles.columns = [\"number\", \"language\", \"title\"]\n",
        "titles_fr = titles[titles[\"language\"] == \"en\"].copy()\n",
        "titles_fr = titles_fr.drop_duplicates([\"number\"], keep='last')\n",
        "del titles_fr[\"language\"]\n",
        "titles_fr.set_index(\"number\", inplace=True)"
      ],
      "execution_count": null,
      "outputs": []
    },
    {
      "cell_type": "code",
      "metadata": {
        "id": "Jr5nKn4XtzI-"
      },
      "source": [
        "abstr = contenu[contenu[\"subject\"] == \"ABSTR\"].copy()\n",
        "del abstr[\"subject\"]\n",
        "abstr.columns = [\"number\", \"language\", \"abstr\"]\n",
        "abstr_fr = abstr[abstr[\"language\"] == \"en\"].copy()\n",
        "abstr_fr = abstr_fr.drop_duplicates([\"number\"], keep='last')\n",
        "del abstr_fr[\"language\"]\n",
        "abstr_fr.set_index(\"number\", inplace=True)"
      ],
      "execution_count": null,
      "outputs": []
    },
    {
      "cell_type": "code",
      "metadata": {
        "id": "3lCipgsbtzQv"
      },
      "source": [
        "jointure = publication_unique.join(revendications_fr)\n",
        "jointure = jointure.join(description_fr)\n",
        "jointure = jointure.join(titles_fr)\n",
        "jointure = jointure.join(abstr_fr)"
      ],
      "execution_count": null,
      "outputs": []
    },
    {
      "cell_type": "code",
      "metadata": {
        "id": "FXfXsxantzYG"
      },
      "source": [
        "jointure.dropna(how=\"any\", inplace=True)"
      ],
      "execution_count": null,
      "outputs": []
    },
    {
      "cell_type": "code",
      "metadata": {
        "id": "VlbWd4lTtzfm"
      },
      "source": [
        "jointure.iloc[:10000].to_csv(\"/content/drive/Shareddrives/ING3 IA: Use Case 1 (NLP Patent)/data_clean/35_en_reduce_publications.csv\")"
      ],
      "execution_count": null,
      "outputs": []
    },
    {
      "cell_type": "markdown",
      "metadata": {
        "id": "7zNL07GZwRw7"
      },
      "source": [
        "## Exemple avec l'export en français pour la génération, en ne gardant que l'abstract et les revendications"
      ]
    },
    {
      "cell_type": "code",
      "metadata": {
        "id": "YH7rKWfBtznK"
      },
      "source": [
        "en_reduce_generation = jointure.copy()\n",
        "del en_reduce_generation[\"kind\"]\n",
        "del en_reduce_generation[\"date\"]\n",
        "del en_reduce_generation[\"information\"]\n",
        "del en_reduce_generation[\"classification\"]\n",
        "del en_reduce_generation[\"description\"]\n",
        "del en_reduce_generation[\"title\"]"
      ],
      "execution_count": null,
      "outputs": []
    },
    {
      "cell_type": "code",
      "metadata": {
        "id": "U4Jpvv0utzuW"
      },
      "source": [
        "from bs4 import BeautifulSoup\n",
        "en_reduce_generation[\"claim\"] = [BeautifulSoup(abstr).get_text() for abstr in en_reduce_generation['claim']]\n",
        "en_reduce_generation['abstr'] = [BeautifulSoup(abstr).get_text() for abstr in en_reduce_generation['abstr']]\n",
        "en_reduce_generation"
      ],
      "execution_count": null,
      "outputs": []
    },
    {
      "cell_type": "code",
      "metadata": {
        "id": "qet0K2m3wd_3"
      },
      "source": [
        "en_reduce_generation.to_csv(\"/content/drive/Shareddrives/ING3 IA: Use Case 1 (NLP Patent)/data_clean/tmp2_en_claim_abstract.csv\")"
      ],
      "execution_count": null,
      "outputs": []
    }
  ]
}