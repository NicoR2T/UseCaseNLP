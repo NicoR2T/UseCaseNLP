{
  "nbformat": 4,
  "nbformat_minor": 0,
  "metadata": {
    "colab": {
      "name": "Text_generation_abstr.ipynb",
      "provenance": []
    },
    "kernelspec": {
      "name": "python3",
      "display_name": "Python 3"
    }
  },
  "cells": [
    {
      "cell_type": "markdown",
      "metadata": {
        "id": "z3in6dYNBsrj"
      },
      "source": [
        "## Abstract generation"
      ]
    },
    {
      "cell_type": "code",
      "metadata": {
        "id": "iB1-1TRxzBNX",
        "colab": {
          "base_uri": "https://localhost:8080/"
        },
        "outputId": "176e114a-ccc7-4472-e882-d6759bba642b"
      },
      "source": [
        "## Libraries\n",
        "\n",
        "import pandas as pd\n",
        "import numpy as np\n",
        "import matplotlib.pyplot as plt\n",
        "from bs4 import BeautifulSoup\n",
        "import re \n",
        "from nltk.corpus import stopwords   \n",
        "from nltk.tokenize import word_tokenize, sent_tokenize \n",
        "import heapq\n",
        "import warnings\n",
        "import nltk\n",
        "\n",
        "warnings.filterwarnings(\"ignore\")\n",
        "nltk.download('stopwords')\n",
        "nltk.download('punkt')"
      ],
      "execution_count": null,
      "outputs": [
        {
          "output_type": "stream",
          "text": [
            "[nltk_data] Downloading package stopwords to /root/nltk_data...\n",
            "[nltk_data]   Unzipping corpora/stopwords.zip.\n",
            "[nltk_data] Downloading package punkt to /root/nltk_data...\n",
            "[nltk_data]   Unzipping tokenizers/punkt.zip.\n"
          ],
          "name": "stdout"
        },
        {
          "output_type": "execute_result",
          "data": {
            "text/plain": [
              "True"
            ]
          },
          "metadata": {
            "tags": []
          },
          "execution_count": 1
        }
      ]
    },
    {
      "cell_type": "code",
      "metadata": {
        "colab": {
          "base_uri": "https://localhost:8080/"
        },
        "id": "Ep0eWqaqzTcA",
        "outputId": "3a6c1adc-8e0a-4c86-dad0-c8f0aadff7d4"
      },
      "source": [
        "## Connection to the Drive\n",
        "\n",
        "from google.colab import drive\n",
        "drive.mount('/content/drive')\n",
        "dataroot = \"/content/drive/Shared drives/ING3 IA: Use Case 1 (NLP Patent)\""
      ],
      "execution_count": null,
      "outputs": [
        {
          "output_type": "stream",
          "text": [
            "Mounted at /content/drive\n"
          ],
          "name": "stdout"
        }
      ]
    },
    {
      "cell_type": "code",
      "metadata": {
        "id": "fOlJhwHtzVpl"
      },
      "source": [
        "## Open the dataset\n",
        "\n",
        "#data = pd.read_csv(\"/content/drive/Shareddrives/ING3 IA: Use Case 1 (NLP Patent)/data_clean/all_en_claim_abstract.csv\")\n",
        "#data = pd.read_csv(\"/content/drive/Shareddrives/ING3 IA: Use Case 1 (NLP Patent)/data_clean/all_de_join_publications.csv\")\n",
        "data = pd.read_csv(\"/content/drive/Shareddrives/ING3 IA: Use Case 1 (NLP Patent)/data_clean/all_fr_join_publications.csv\")"
      ],
      "execution_count": null,
      "outputs": []
    },
    {
      "cell_type": "code",
      "metadata": {
        "id": "IXL5s1NF0qw7"
      },
      "source": [
        "## Keep important columns\n",
        "\n",
        "data = data[['claim', 'abstr']]\n",
        "data.dropna(axis=0,inplace=True)"
      ],
      "execution_count": null,
      "outputs": []
    },
    {
      "cell_type": "code",
      "metadata": {
        "id": "mg1Q-V3E0zji"
      },
      "source": [
        "## Remove html tags from them\n",
        "\n",
        "data['abstr'] = [BeautifulSoup(abstr).get_text() for abstr in data['abstr']]\n",
        "data['claim'] = [BeautifulSoup(claim).get_text() for claim in data['claim']]"
      ],
      "execution_count": null,
      "outputs": []
    },
    {
      "cell_type": "code",
      "metadata": {
        "id": "LRhcz0xqJVVy"
      },
      "source": [
        "## Function to clean a dataframe column of strings\n",
        "\n",
        "def text_cleaner(text):\n",
        "    newString = text.lower()\n",
        "    newString = BeautifulSoup(newString, \"lxml\").text\n",
        "    newString = re.sub(r'\\([^)]*\\)', '', newString)\n",
        "    newString = re.sub('\"','', newString)    \n",
        "    newString = re.sub(r\"'s\\b\",\"\",newString)\n",
        "    newString = re.sub(\",\", \"\", newString) \n",
        "    tokens = [w for w in newString.split()]\n",
        "    return (\" \".join(tokens)).strip()\n",
        "\n",
        "# Lists of all cleaned claims and abstracts\n",
        "cleaned_claim = []\n",
        "for t in data['claim']:\n",
        "    cleaned_claim.append(text_cleaner(t))\n",
        "\n",
        "cleaned_abstr = []\n",
        "for t in data['abstr']:\n",
        "    cleaned_abstr.append(text_cleaner(t))"
      ],
      "execution_count": null,
      "outputs": []
    },
    {
      "cell_type": "code",
      "metadata": {
        "id": "4wHvzS0HRsKm"
      },
      "source": [
        "## Stopwords language selection (has to match with the data language)\n",
        "\n",
        "stop_words = nltk.corpus.stopwords.words('english')\n",
        "#stop_words = nltk.corpus.stopwords.words('german')\n",
        "#stop_words = nltk.corpus.stopwords.words('french')"
      ],
      "execution_count": null,
      "outputs": []
    },
    {
      "cell_type": "code",
      "metadata": {
        "id": "UUwJC7axSWLA"
      },
      "source": [
        "## Build a list of predicted abstracts (most meaningful sentence of the claim)\n",
        "\n",
        "claim_to_abstr = []\n",
        "\n",
        "for line in range(len(cleaned_claim)):\n",
        "\n",
        "  sentence_scores = {}\n",
        "  word_frequencies = {}\n",
        "\n",
        "  # Build word_frequencies dictionary\n",
        "  for word in nltk.word_tokenize(cleaned_claim[line]):\n",
        "    if word not in stop_words:\n",
        "      if word not in word_frequencies.keys():\n",
        "        word_frequencies[word] = 1\n",
        "      else:\n",
        "        word_frequencies[word] += 1\n",
        "\n",
        "  maximum_frequncy = max(word_frequencies.values())\n",
        "\n",
        "  # Give a weight to words\n",
        "  for word in word_frequencies.keys():\n",
        "      word_frequencies[word] = (word_frequencies[word]/maximum_frequncy)\n",
        "\n",
        "  # Get all sentences froma a claim\n",
        "  sentence_list = cleaned_claim[line].split(\".\")\n",
        "\n",
        "  # Build a sentence_scores dictionary\n",
        "  for snt in sentence_list :\n",
        "    for word in nltk.word_tokenize(snt):\n",
        "      if word in word_frequencies.keys():\n",
        "        if snt not in sentence_scores.keys():\n",
        "          sentence_scores[snt] = word_frequencies[word]\n",
        "        else:\n",
        "          sentence_scores[snt] += word_frequencies[word]\n",
        "\n",
        "  # Get the most meaningful sentence of a claim\n",
        "  summary_sentences = heapq.nlargest(1, sentence_scores, key=sentence_scores.get)\n",
        "\n",
        "  summary = ' '.join(summary_sentences)\n",
        "  claim_to_abstr.append(summary)"
      ],
      "execution_count": null,
      "outputs": []
    },
    {
      "cell_type": "markdown",
      "metadata": {
        "id": "L_d2yyF6BjeD"
      },
      "source": [
        "# Evaluation metrics"
      ]
    },
    {
      "cell_type": "code",
      "metadata": {
        "colab": {
          "base_uri": "https://localhost:8080/"
        },
        "id": "j2LhE_xaBrHn",
        "outputId": "dbaf15d6-dc6a-46af-86dd-00e76d6f52aa"
      },
      "source": [
        "from difflib import SequenceMatcher\n",
        "\n",
        "somme = 0\n",
        "\n",
        "for i in range(len(claim_to_abstr)):\n",
        "  somme += SequenceMatcher(None, claim_to_abstr[i], cleaned_abstr[i]).ratio()\n",
        "\n",
        "# Raw text evaluation\n",
        "print(\"Predicted abstract similarity : \", \"{:.2f}\".format(100*somme/len(claim_to_abstr)), \" %\")"
      ],
      "execution_count": null,
      "outputs": [
        {
          "output_type": "stream",
          "text": [
            "Predicted abstract similarity :  20.34  %\n"
          ],
          "name": "stdout"
        }
      ]
    },
    {
      "cell_type": "code",
      "metadata": {
        "colab": {
          "base_uri": "https://localhost:8080/"
        },
        "id": "cTkhq4-tR7di",
        "outputId": "f7870ab3-29b6-4fff-8344-27d389264742"
      },
      "source": [
        "## Advanced comparison\n",
        "\n",
        "from nltk.corpus import stopwords \n",
        "from nltk.tokenize import word_tokenize \n",
        "\n",
        "similarity_sum = 0\n",
        "\n",
        "for i in range(len(claim_to_abstr)):\n",
        "\n",
        "  abstr_pred = word_tokenize(claim_to_abstr[i])\n",
        "  abstr_true = word_tokenize(cleaned_abstr[i])\n",
        "\n",
        "  l1 =[]\n",
        "  l2 =[] \n",
        "  \n",
        "  # remove stop words from the string \n",
        "  X_set = {w for w in abstr_pred if not w in stop_words}  \n",
        "  Y_set = {w for w in abstr_true if not w in stop_words} \n",
        "    \n",
        "  # form a set containing keywords of both strings  \n",
        "  rvector = X_set.union(Y_set)  \n",
        "  for w in rvector: \n",
        "    if w in X_set: l1.append(1) # create a vector \n",
        "    else: l1.append(0) \n",
        "    if w in Y_set: l2.append(1) \n",
        "    else: l2.append(0) \n",
        "  c = 0\n",
        "    \n",
        "  # cosine formula  \n",
        "  for i in range(len(rvector)): \n",
        "    c+= l1[i]*l2[i]\n",
        "  f = sum(l1)*sum(l2)\n",
        "  cosine = c/float(f**0.5)\n",
        "  similarity_sum += cosine \n",
        "\n",
        "# Meaningful words  \n",
        "print(\"Predicted abstract similarity : \", \"{:.2f}\".format(100*similarity_sum/len(claim_to_abstr)), \" %\") "
      ],
      "execution_count": null,
      "outputs": [
        {
          "output_type": "stream",
          "text": [
            "Predicted abstract similarity :  54.26  %\n"
          ],
          "name": "stdout"
        }
      ]
    },
    {
      "cell_type": "code",
      "metadata": {
        "id": "B4opXElVJ9-9"
      },
      "source": [
        "## FR\n",
        "# Fulltext comparison accuracy : 34.98 %\n",
        "# Advanced comparison accuracy : 66.81 %\n",
        "\n",
        "## GE\n",
        "# Fulltext comparison accuracy : 37.92 %\n",
        "# Advanced comparison accuracy : 59.83 %\n",
        "\n",
        "## EN\n",
        "# Fulltext comparison accuracy : 20.34 %\n",
        "# Advanced comparison accuracy : 54.26 %"
      ],
      "execution_count": null,
      "outputs": []
    },
    {
      "cell_type": "code",
      "metadata": {
        "id": "JhWBalCMgmqd"
      },
      "source": [
        ""
      ],
      "execution_count": null,
      "outputs": []
    }
  ]
}