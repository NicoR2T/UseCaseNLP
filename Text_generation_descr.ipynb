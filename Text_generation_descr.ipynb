{
  "nbformat": 4,
  "nbformat_minor": 0,
  "metadata": {
    "colab": {
      "name": "Text_generation_descr.ipynb",
      "provenance": []
    },
    "kernelspec": {
      "name": "python3",
      "display_name": "Python 3"
    }
  },
  "cells": [
    {
      "cell_type": "code",
      "metadata": {
        "colab": {
          "base_uri": "https://localhost:8080/"
        },
        "id": "now6XprnARFd",
        "outputId": "ebb2ad78-3502-4979-af8a-d06d3786de98"
      },
      "source": [
        "#Import libraries\n",
        "\n",
        "import numpy as np\n",
        "from keras.models import Sequential\n",
        "from keras.layers import Dense\n",
        "from keras.layers import Dropout\n",
        "from keras.layers import LSTM\n",
        "from keras.utils import np_utils\n",
        "from keras.layers import Activation\n",
        "from keras.optimizers import RMSprop\n",
        "from keras.callbacks import LambdaCallback, ModelCheckpoint\n",
        "import random\n",
        "import sys\n",
        "import io\n",
        "import tensorflow as tf\n",
        "\n",
        "import pandas as pd\n",
        "import matplotlib.pyplot as plt\n",
        "from bs4 import BeautifulSoup\n",
        "import re \n",
        "from nltk.corpus import stopwords   \n",
        "from nltk.tokenize import word_tokenize, sent_tokenize \n",
        "import nltk\n",
        "\n",
        "warnings.filterwarnings(\"ignore\")\n",
        "nltk.download('stopwords')\n",
        "nltk.download('punkt')"
      ],
      "execution_count": null,
      "outputs": [
        {
          "output_type": "stream",
          "text": [
            "[nltk_data] Downloading package stopwords to /root/nltk_data...\n",
            "[nltk_data]   Package stopwords is already up-to-date!\n",
            "[nltk_data] Downloading package punkt to /root/nltk_data...\n",
            "[nltk_data]   Package punkt is already up-to-date!\n"
          ],
          "name": "stdout"
        },
        {
          "output_type": "execute_result",
          "data": {
            "text/plain": [
              "True"
            ]
          },
          "metadata": {
            "tags": []
          },
          "execution_count": 1
        }
      ]
    },
    {
      "cell_type": "code",
      "metadata": {
        "colab": {
          "base_uri": "https://localhost:8080/"
        },
        "id": "JMIsuxteI5zn",
        "outputId": "0e0681c2-4eae-4067-d4ac-31f2dcb75ce1"
      },
      "source": [
        "## Connection to the Drive\n",
        "\n",
        "from google.colab import drive\n",
        "drive.mount('/content/drive')\n",
        "dataroot = \"/content/drive/Shared drives/ING3 IA: Use Case 1 (NLP Patent)\""
      ],
      "execution_count": null,
      "outputs": [
        {
          "output_type": "stream",
          "text": [
            "Drive already mounted at /content/drive; to attempt to forcibly remount, call drive.mount(\"/content/drive\", force_remount=True).\n"
          ],
          "name": "stdout"
        }
      ]
    },
    {
      "cell_type": "code",
      "metadata": {
        "id": "Q-k2Y6DaJisG"
      },
      "source": [
        "#Data selection\n",
        "\n",
        "data = pd.read_csv(\"/content/drive/Shareddrives/ING3 IA: Use Case 1 (NLP Patent)/data_clean/all_fr_join_publications.csv\")\n",
        "#data = pd.read_csv(\"/content/drive/Shareddrives/ING3 IA: Use Case 1 (NLP Patent)/data_clean/35_en_reduce_publications.csv\")"
      ],
      "execution_count": null,
      "outputs": []
    },
    {
      "cell_type": "code",
      "metadata": {
        "id": "yB6lkF2IJqfs"
      },
      "source": [
        "# Reduce data to claims and description + clean the text\n",
        "\n",
        "data = data[['claim', 'description']]\n",
        "data.dropna(axis=0,inplace=True)\n",
        "\n",
        "data['description'] = [BeautifulSoup(abstr).get_text() for abstr in data['description']]\n",
        "data['claim'] = [BeautifulSoup(claim).get_text() for claim in data['claim']]"
      ],
      "execution_count": null,
      "outputs": []
    },
    {
      "cell_type": "code",
      "metadata": {
        "id": "bjTcHJBDBMbP"
      },
      "source": [
        "## Function to clean a dataframe column of strings\n",
        "\n",
        "def text_cleaner(text):\n",
        "    newString = text.lower()\n",
        "    newString = BeautifulSoup(newString, \"lxml\").text\n",
        "    newString = re.sub(r'\\([^)]*\\)', '', newString)\n",
        "    newString = re.sub('\"','', newString)    \n",
        "    #newString = re.sub(r\"'s\\b\",\"\",newString)\n",
        "    #newString = re.sub(\",\", \"\", newString) \n",
        "    tokens = [w for w in newString.split()]\n",
        "    return (\" \".join(tokens)).strip()\n",
        "\n",
        "# Lists of all cleaned claims and abstracts\n",
        "cleaned_claim = []\n",
        "for t in data['claim']:\n",
        "    cleaned_claim.append(text_cleaner(t))\n",
        "\n",
        "cleaned_descr = []\n",
        "for t in data['description']:\n",
        "    cleaned_descr.append(text_cleaner(t))"
      ],
      "execution_count": null,
      "outputs": []
    },
    {
      "cell_type": "markdown",
      "metadata": {
        "id": "eFn7SoP0UDCM"
      },
      "source": [
        "#LSTM"
      ]
    },
    {
      "cell_type": "code",
      "metadata": {
        "id": "eJiYSFQDcLfb",
        "colab": {
          "base_uri": "https://localhost:8080/",
          "height": 424
        },
        "outputId": "048042d3-77f6-405b-dede-d24ad1f04a9c"
      },
      "source": [
        "# Define the dataframe that will be used by the model\n",
        "\n",
        "df = pd.DataFrame(list(zip(cleaned_claim, cleaned_descr)), columns =['claim', 'descr']) \n",
        "#df = df.head(3000)\n",
        "df"
      ],
      "execution_count": null,
      "outputs": [
        {
          "output_type": "execute_result",
          "data": {
            "text/html": [
              "<div>\n",
              "<style scoped>\n",
              "    .dataframe tbody tr th:only-of-type {\n",
              "        vertical-align: middle;\n",
              "    }\n",
              "\n",
              "    .dataframe tbody tr th {\n",
              "        vertical-align: top;\n",
              "    }\n",
              "\n",
              "    .dataframe thead th {\n",
              "        text-align: right;\n",
              "    }\n",
              "</style>\n",
              "<table border=\"1\" class=\"dataframe\">\n",
              "  <thead>\n",
              "    <tr style=\"text-align: right;\">\n",
              "      <th></th>\n",
              "      <th>claim</th>\n",
              "      <th>descr</th>\n",
              "    </tr>\n",
              "  </thead>\n",
              "  <tbody>\n",
              "    <tr>\n",
              "      <th>0</th>\n",
              "      <td>a method for transmitting a channel sounding r...</td>\n",
              "      <td>technical fieldembodiments of the disclosure r...</td>\n",
              "    </tr>\n",
              "    <tr>\n",
              "      <th>1</th>\n",
              "      <td>a method for transmitting a sounding reference...</td>\n",
              "      <td>technical fieldthe present invention relates t...</td>\n",
              "    </tr>\n",
              "    <tr>\n",
              "      <th>2</th>\n",
              "      <td>a self-contained subframe configuration method...</td>\n",
              "      <td>technical fieldembodiments of the present inve...</td>\n",
              "    </tr>\n",
              "    <tr>\n",
              "      <th>3</th>\n",
              "      <td>a method for transmitting information, compris...</td>\n",
              "      <td>technical fieldthe present invention relates t...</td>\n",
              "    </tr>\n",
              "    <tr>\n",
              "      <th>4</th>\n",
              "      <td>an information transmission method based on a ...</td>\n",
              "      <td>technical fieldthe present disclosure relates ...</td>\n",
              "    </tr>\n",
              "    <tr>\n",
              "      <th>...</th>\n",
              "      <td>...</td>\n",
              "      <td>...</td>\n",
              "    </tr>\n",
              "    <tr>\n",
              "      <th>2995</th>\n",
              "      <td>a computer-implemented method of assembling pa...</td>\n",
              "      <td>field of the inventionthe invention relates to...</td>\n",
              "    </tr>\n",
              "    <tr>\n",
              "      <th>2996</th>\n",
              "      <td>a system, comprising:a scriber to form a plura...</td>\n",
              "      <td>cross reference to related applicationsthis in...</td>\n",
              "    </tr>\n",
              "    <tr>\n",
              "      <th>2997</th>\n",
              "      <td>a method for writing data comprising a sequenc...</td>\n",
              "      <td>technical fieldthe present inventive concept r...</td>\n",
              "    </tr>\n",
              "    <tr>\n",
              "      <th>2998</th>\n",
              "      <td>a method, comprising:identifying a function de...</td>\n",
              "      <td>claim of prioritythis application claims prior...</td>\n",
              "    </tr>\n",
              "    <tr>\n",
              "      <th>2999</th>\n",
              "      <td>a system configured for user authentication at...</td>\n",
              "      <td>fieldthe invention relates to a user authentic...</td>\n",
              "    </tr>\n",
              "  </tbody>\n",
              "</table>\n",
              "<p>3000 rows × 2 columns</p>\n",
              "</div>"
            ],
            "text/plain": [
              "                                                  claim                                              descr\n",
              "0     a method for transmitting a channel sounding r...  technical fieldembodiments of the disclosure r...\n",
              "1     a method for transmitting a sounding reference...  technical fieldthe present invention relates t...\n",
              "2     a self-contained subframe configuration method...  technical fieldembodiments of the present inve...\n",
              "3     a method for transmitting information, compris...  technical fieldthe present invention relates t...\n",
              "4     an information transmission method based on a ...  technical fieldthe present disclosure relates ...\n",
              "...                                                 ...                                                ...\n",
              "2995  a computer-implemented method of assembling pa...  field of the inventionthe invention relates to...\n",
              "2996  a system, comprising:a scriber to form a plura...  cross reference to related applicationsthis in...\n",
              "2997  a method for writing data comprising a sequenc...  technical fieldthe present inventive concept r...\n",
              "2998  a method, comprising:identifying a function de...  claim of prioritythis application claims prior...\n",
              "2999  a system configured for user authentication at...  fieldthe invention relates to a user authentic...\n",
              "\n",
              "[3000 rows x 2 columns]"
            ]
          },
          "metadata": {
            "tags": []
          },
          "execution_count": 21
        }
      ]
    },
    {
      "cell_type": "code",
      "metadata": {
        "colab": {
          "base_uri": "https://localhost:8080/",
          "height": 35
        },
        "id": "Fua7h20RU1Ar",
        "outputId": "84dbb3da-119a-4874-d973-4d2071bb7ab0"
      },
      "source": [
        "# Get the descriptions\n",
        "\n",
        "descr = df['descr']\n",
        "descr = descr[:int(len(descr) * 0.01)]\n",
        "descr = ' '.join(map(str, descr))\n",
        "\n",
        "descr[:100]"
      ],
      "execution_count": null,
      "outputs": [
        {
          "output_type": "execute_result",
          "data": {
            "application/vnd.google.colaboratory.intrinsic+json": {
              "type": "string"
            },
            "text/plain": [
              "'technical fieldembodiments of the disclosure relate to the field of wireless communication, and more'"
            ]
          },
          "metadata": {
            "tags": []
          },
          "execution_count": 23
        }
      ]
    },
    {
      "cell_type": "code",
      "metadata": {
        "colab": {
          "base_uri": "https://localhost:8080/"
        },
        "id": "9TkXiZBzP3Dg",
        "outputId": "36e8fc06-9787-4c4d-dfe6-454dbb6eca0a"
      },
      "source": [
        "#len(descr)"
      ],
      "execution_count": null,
      "outputs": [
        {
          "output_type": "execute_result",
          "data": {
            "text/plain": [
              "3215460"
            ]
          },
          "metadata": {
            "tags": []
          },
          "execution_count": 24
        }
      ]
    },
    {
      "cell_type": "code",
      "metadata": {
        "colab": {
          "base_uri": "https://localhost:8080/"
        },
        "id": "toAaDrCGh1xR",
        "outputId": "01ad6513-85c4-4fd8-ce01-6ef815ea6e17"
      },
      "source": [
        "# Get unique characters\n",
        "\n",
        "chars = sorted(list(set(descr)))\n",
        "print('Count of unique characters (i.e., features):', len(chars))\n",
        "char_indices = dict((c, i) for i, c in enumerate(chars))\n",
        "indices_char = dict((i, c) for i, c in enumerate(chars))"
      ],
      "execution_count": null,
      "outputs": [
        {
          "output_type": "stream",
          "text": [
            "Count of unique characters (i.e., features): 77\n"
          ],
          "name": "stdout"
        }
      ]
    },
    {
      "cell_type": "code",
      "metadata": {
        "colab": {
          "base_uri": "https://localhost:8080/"
        },
        "id": "g0bbCTWZM6p3",
        "outputId": "8e00e984-158e-4fda-f285-9576fd0be436"
      },
      "source": [
        "#Get sequences\n",
        "\n",
        "#maxlen of the string\n",
        "maxlen = 40\n",
        "step = 3\n",
        "sentences = []\n",
        "next_chars = []\n",
        "for i in range(0, len(descr) - maxlen, step):\n",
        "    sentences.append(descr[i: i + maxlen])\n",
        "    next_chars.append(descr[i + maxlen])\n",
        "print('Number of sequences:', len(sentences), \"\\n\")\n",
        "\n",
        "print(sentences[:10], \"\\n\")\n",
        "print(next_chars[:10])"
      ],
      "execution_count": null,
      "outputs": [
        {
          "output_type": "stream",
          "text": [
            "Number of sequences: 1071807 \n",
            "\n",
            "['technical fieldembodiments of the disclo', 'hnical fieldembodiments of the disclosur', 'cal fieldembodiments of the disclosure r', ' fieldembodiments of the disclosure rela', 'eldembodiments of the disclosure relate ', 'embodiments of the disclosure relate to ', 'odiments of the disclosure relate to the', 'ments of the disclosure relate to the fi', 'ts of the disclosure relate to the field', 'of the disclosure relate to the field of'] \n",
            "\n",
            "['s', 'e', 'e', 't', 't', 't', ' ', 'e', ' ', ' ']\n"
          ],
          "name": "stdout"
        }
      ]
    },
    {
      "cell_type": "code",
      "metadata": {
        "id": "9wo_jRkdNZPG"
      },
      "source": [
        "# Build x and y for the training\n",
        "\n",
        "x = np.zeros((len(sentences), maxlen, len(chars)), dtype=np.bool)\n",
        "y = np.zeros((len(sentences), len(chars)), dtype=np.bool)\n",
        "for i, sentence in enumerate(sentences):\n",
        "    for t, char in enumerate(sentence):\n",
        "        x[i, t, char_indices[char]] = 1\n",
        "    y[i, char_indices[next_chars[i]]] = 1"
      ],
      "execution_count": null,
      "outputs": []
    },
    {
      "cell_type": "code",
      "metadata": {
        "id": "CEQVEWslO_J0"
      },
      "source": [
        "# Define the LSTM model\n",
        "\n",
        "model = Sequential()\n",
        "model.add(LSTM(128, return_sequences=True, input_shape=(maxlen, len(chars))))\n",
        "model.add(LSTM(128, activation='relu'))\n",
        "model.add(Dense(len(chars)))\n",
        "model.add(Activation('softmax'))"
      ],
      "execution_count": null,
      "outputs": []
    },
    {
      "cell_type": "code",
      "metadata": {
        "id": "oW8UXbw4PGx9"
      },
      "source": [
        "# Define an optimizer\n",
        "\n",
        "optimizer = RMSprop(lr=0.01)\n",
        "model.compile(loss='categorical_crossentropy', optimizer=optimizer)"
      ],
      "execution_count": null,
      "outputs": []
    },
    {
      "cell_type": "code",
      "metadata": {
        "id": "-kAhoh85PKiE"
      },
      "source": [
        "def sample(preds, temperature=1.0):\n",
        "    # helper function to sample an index from a probability array\n",
        "    preds = np.asarray(preds).astype('float64')\n",
        "    preds = np.log(preds) / temperature\n",
        "    exp_preds = np.exp(preds)\n",
        "    preds = exp_preds / np.sum(exp_preds)\n",
        "    probas = np.random.multinomial(1, preds, 1)\n",
        "    return np.argmax(probas)\n",
        "\n",
        "def on_epoch_end(epoch, logs):\n",
        "    # Function invoked for specified epochs. Prints generated text.\n",
        "    # Using epoch+1 to be consistent with the training epochs printed by Keras\n",
        "    if epoch+1 == 1 or epoch+1 == 10:\n",
        "        print()\n",
        "        print('----- Generating text after Epoch: %d' % epoch)\n",
        "\n",
        "        start_index = random.randint(0, len(descr) - maxlen - 1)\n",
        "        for diversity in [0.2, 0.3, 0.4, 0.5]:\n",
        "            print('----- diversity:', diversity)\n",
        "\n",
        "            generated = ''\n",
        "            sentence = descr[start_index: start_index + maxlen]\n",
        "            generated += sentence\n",
        "            print('----- Generating with seed: \"' + sentence + '\"')\n",
        "            sys.stdout.write(generated)\n",
        "\n",
        "            for i in range(400):\n",
        "                x_pred = np.zeros((1, maxlen, len(chars)))\n",
        "                for t, char in enumerate(sentence):\n",
        "                    x_pred[0, t, char_indices[char]] = 1.\n",
        "\n",
        "                preds = model.predict(x_pred, verbose=0)[0]\n",
        "                next_index = sample(preds, diversity)\n",
        "                next_char = indices_char[next_index]\n",
        "\n",
        "                generated += next_char\n",
        "                sentence = sentence[1:] + next_char\n",
        "\n",
        "                sys.stdout.write(next_char)\n",
        "                sys.stdout.flush()\n",
        "            print()\n",
        "    else:\n",
        "        print()\n",
        "        print('----- Not generating text after Epoch: %d' % epoch)\n",
        "\n",
        "generate_text = LambdaCallback(on_epoch_end=on_epoch_end)"
      ],
      "execution_count": null,
      "outputs": []
    },
    {
      "cell_type": "code",
      "metadata": {
        "colab": {
          "base_uri": "https://localhost:8080/"
        },
        "id": "YpSmpKf0PQR2",
        "outputId": "b0047ed9-bce1-4e1b-dfb8-4797caf2f700"
      },
      "source": [
        "filepath = \"weights.hdf5\"\n",
        "checkpoint = ModelCheckpoint(filepath, \n",
        "                             monitor='loss', \n",
        "                             verbose=1, \n",
        "                             save_best_only=True, \n",
        "                             mode='min')\n",
        "\n",
        "# fit model using our gpu\n",
        "with tf.device('/gpu:0'):\n",
        "    model.fit(x, y,\n",
        "              batch_size=128,\n",
        "              epochs=1,\n",
        "              verbose=2,\n",
        "              callbacks=[generate_text, checkpoint])"
      ],
      "execution_count": null,
      "outputs": [
        {
          "output_type": "stream",
          "text": [
            "8374/8374 - 2246s - loss: 88127964184576.0000\n",
            "\n",
            "----- Generating text after Epoch: 0\n",
            "----- diversity: 0.2\n",
            "----- Generating with seed: \"nt, the case where the number of user te\"\n",
            "nt, the case where the number of user teg dtsh m,ctercshrcts bc,rrhtflq,tc aectrlr aehssqralmcpch  t eg.dhpi ccln elnscslqp gc eiaebttcchcrelotcl ,lcloogltuax pnqctrtcsren cntslrclolyfcrel  rheclsr c vglccho o acocaul,por, s gcem,ccorsdggcncss   vmcehk eoc .cct mrt gheqcclholss t   mmcttts  latsulsrem cat cccpo chtlyrtmm cdcgyr cl  arc  0 rmpt cohceonn i rbs  grg csccstl ccgonvlt,aepyce ep c  m lclttrlcf hlsrhc  ccts2 elpl l ce gcmp ho \n",
            "----- diversity: 0.3\n",
            "----- Generating with seed: \"nt, the case where the number of user te\"\n",
            "nt, the case where the number of user teg dtsh m,ctercshrcts bc,rrhtflq,tc aectrlr aehssqralmcpch  t eg.dhpi ccln elnscslqp gc eiaebttcchcrelotcl ,lcloogltuax pnqctrtcsren cntslrclolyfcrel  rheclsr c vglccho o acocaul,por, s gcem,ccorsdggcncss   vmcehk eoc .cct mrt gheqcclholss t   mmcttts  latsulsrem cat cccpo chtlyrtmm cdcgyr cl  arc  0 rmpt cohceonn i rbs  grg csccstl ccgonvlt,aepyce ep c  m lclttrlcf hlsrhc  ccts2 elpl l ce gcmp ho \n",
            "----- diversity: 0.4\n",
            "----- Generating with seed: \"nt, the case where the number of user te\"\n",
            "nt, the case where the number of user teg dtsh m,ctercshrcts bc,rrhtflq,tc aectrlr aehssqralmcpch  t eg.dhpi ccln elnscslqp gc eiaebttcchcrelotcl ,lcloogltuax pnqctrtcsren cntslrclolyfcrel  rheclsr c vglccho o acocaul,por, s gcem,ccorsdggcncss   vmcehk eoc .cct mrt gheqcclholss t   mmcttts  latsulsrem cat cccpo chtlyrtmm cdcgyr cl  arc  0 rmpt cohceonn i rbs  grg csccstl ccgonvlt,aepyce ep c  m lclttrlcf hlsrhc  ccts2 elpl l ce gcmp ho \n",
            "----- diversity: 0.5\n",
            "----- Generating with seed: \"nt, the case where the number of user te\"\n",
            "nt, the case where the number of user teg dtsh m,ctercshrcts bc,rrhtflq,tc aectrlr aehssqralmcpch  t eg.dhpi ccln elnscslqp gc eiaebttcchcrelotcl ,lcloogltuax pnqctrtcsren cntslrclolyfcrel  rheclsr c vglccho o acocaul,por, s gcem,ccorsdggcncss   vmcehk eoc .cct mrt gheqcclholss t   mmcttts  latsulsrem cat cccpo chtlyrtmm cdcgyr cl  arc  0 rmpt cohceonn i rbs  grg csccstl ccgonvlt,aepyce ep c  m lclttrlcf hlsrhc  ccts2 elpl l ce gcmp ho \n",
            "\n",
            "Epoch 00001: loss improved from inf to 88127964184576.00000, saving model to weights.hdf5\n"
          ],
          "name": "stdout"
        }
      ]
    }
  ]
}